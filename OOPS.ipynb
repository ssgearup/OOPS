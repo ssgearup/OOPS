{
 "cells": [
  {
   "cell_type": "markdown",
   "metadata": {},
   "source": [
    "# Object Oriented Programming"
   ]
  },
  {
   "cell_type": "code",
   "execution_count": 1,
   "metadata": {},
   "outputs": [
    {
     "name": "stdout",
     "output_type": "stream",
     "text": [
      "101 ABC 0\n",
      "0\n",
      "5000\n",
      "4500\n",
      "Insuficient balance\n"
     ]
    }
   ],
   "source": [
    "# cust_id\n",
    "# name\n",
    "# balance\n",
    "\n",
    "# deposit\n",
    "# withdraw\n",
    "\n",
    "\n",
    "class Account:                                             #Instance method\n",
    "    def __init__(self,cust_id,name,initial_bal=0):        #call of __init__ is implicit here\n",
    "            self.id= cust_id                              \n",
    "            self.name= name\n",
    "            self.balance= initial_bal\n",
    "            \n",
    "    def get_bal(self):                                # balance for a specific customer\n",
    "        return self.balance\n",
    "    \n",
    "    def deposit(self,amount):\n",
    "        self.balance += amount\n",
    "        return self.balance\n",
    "    \n",
    "    def withdraw(self,amount):\n",
    "        if amount > self.balance:\n",
    "            return \"Insuficient balance\"\n",
    "        else:\n",
    "            self.balance -= amount\n",
    "            return self.balance\n",
    "        \n",
    "        \n",
    "\n",
    "customer1= Account(\"101\",\"ABC\")  #customer1 is an object and in background whenever you call a object it refer to function\n",
    "print(customer1.id,customer1.name,customer1.balance)   # __init__\n",
    "\n",
    "\n",
    "customer2= Account(\"102\",\"XYZ\") \n",
    "print(customer2.get_bal()) \n",
    "\n",
    "customer3= Account(\"103\",\"PQR\") \n",
    "print(customer3.deposit(5000)) \n",
    "\n",
    "\n",
    "print(customer3.withdraw(500))\n",
    "print(customer3.withdraw(5000))"
   ]
  },
  {
   "cell_type": "code",
   "execution_count": 2,
   "metadata": {},
   "outputs": [
    {
     "name": "stdout",
     "output_type": "stream",
     "text": [
      "ABC 101\n",
      "XYZ 102\n"
     ]
    }
   ],
   "source": [
    "customer1.deposit(10000)\n",
    "customer2.deposit(20000)\n",
    "customer3.deposit(30000)\n",
    "\n",
    "l=[customer1,customer2,customer3]\n",
    "\n",
    "for obj in l:\n",
    "    if obj.balance < 30000:\n",
    "        print(obj.name,obj.id)"
   ]
  },
  {
   "cell_type": "code",
   "execution_count": 3,
   "metadata": {},
   "outputs": [
    {
     "name": "stdout",
     "output_type": "stream",
     "text": [
      "101 ABC\n",
      "102 XYZ\n"
     ]
    }
   ],
   "source": [
    "class Account:\n",
    "    def __init__(self,cust_id,name,initial_bal=0):        #call of __init__ is implicit here\n",
    "            self.__id= cust_id   #Private variable, you cannot access this variable outside the class\n",
    "            self.__name= name\n",
    "            self.__bal= initial_bal\n",
    "            \n",
    "    def get_bal(self):                                # balance for a specific customer\n",
    "        return self.__bal\n",
    "    \n",
    "    def deposit(self,amount):\n",
    "        self.__bal += amount\n",
    "        return self.__bal\n",
    "    \n",
    "    def withdraw(self,amount):\n",
    "        if amount > self.__bal:\n",
    "            return \"Insuficient balance\"\n",
    "        else:\n",
    "            self.__bal -= amount\n",
    "            return self.__bal\n",
    "        \n",
    "    def get_id(self):\n",
    "        return self.__id\n",
    "    \n",
    "    def get_name(self):\n",
    "        return self.__name\n",
    "        \n",
    "customer1= Account(\"101\",\"ABC\") \n",
    "customer2= Account(\"102\",\"XYZ\")\n",
    "customer3= Account(\"103\",\"PQR\") \n",
    "\n",
    "customer1.deposit(10000)\n",
    "customer2.deposit(20000)\n",
    "customer3.deposit(30000)\n",
    "\n",
    "l=[customer1,customer2,customer3]\n",
    "\n",
    "for obj in l:\n",
    "    if obj.get_bal() < 30000:\n",
    "        print(obj.get_id(),obj.get_name())"
   ]
  },
  {
   "cell_type": "markdown",
   "metadata": {},
   "source": [
    "# Class Method and Static Method"
   ]
  },
  {
   "cell_type": "code",
   "execution_count": 4,
   "metadata": {},
   "outputs": [
    {
     "name": "stdout",
     "output_type": "stream",
     "text": [
      "{'__module__': '__main__', 'count': 8, '__init__': <function Account.__init__ at 0x000002624DA4A8B0>, 'get_bal': <function Account.get_bal at 0x000002624D9D2040>, 'deposit': <function Account.deposit at 0x000002624D9D20D0>, 'withdraw': <function Account.withdraw at 0x000002624D9D2310>, '__dict__': <attribute '__dict__' of 'Account' objects>, '__weakref__': <attribute '__weakref__' of 'Account' objects>, '__doc__': None}\n",
      "{'_Account__id': '101', '_Account__name': 'ABC', '_Account__bal': 0, 'count': 100}\n"
     ]
    }
   ],
   "source": [
    "#Class and Static method\n",
    "\n",
    "class Account:\n",
    "    count=0\n",
    "    def __init__(self,cust_id,name,initial_bal=0):        #call of __init__ is implicit here\n",
    "            self.__id= cust_id   #Private variable, you cannot access this variable outside the class\n",
    "            self.__name= name\n",
    "            self.__bal= initial_bal\n",
    "            Account.count+=1\n",
    "            \n",
    "    def get_bal(self):                                # balance for a specific customer\n",
    "        return self.__bal\n",
    "    \n",
    "    def deposit(self,amount):\n",
    "        self.__bal += amount\n",
    "        return self.__bal\n",
    "    \n",
    "    def withdraw(self,amount):\n",
    "        if amount > self.__bal:\n",
    "            return \"Insuficient balance\"\n",
    "        else:\n",
    "            self.__bal -= amount\n",
    "            return self.__bal\n",
    "        \n",
    "        \n",
    "customer1= Account(\"101\",\"ABC\") \n",
    "customer2= Account(\"102\",\"XYZ\")\n",
    "customer3= Account(\"103\",\"PQR\") \n",
    "\n",
    "# print(Account.count)\n",
    "# print(customer1.count)\n",
    "\n",
    "Account.count+=5\n",
    "# print(customer1.count)\n",
    "\n",
    "customer1.count=100\n",
    "# print(Account.count)\n",
    "# print(customer1.count)\n",
    "# print(customer2.count)\n",
    "\n",
    "print(Account.__dict__)   #it will show name space in other words, key value \n",
    "print(customer1.__dict__)"
   ]
  },
  {
   "cell_type": "code",
   "execution_count": 5,
   "metadata": {},
   "outputs": [
    {
     "name": "stdout",
     "output_type": "stream",
     "text": [
      "3\n",
      "Static method in Account class\n"
     ]
    }
   ],
   "source": [
    "class Account:\n",
    "    count=0\n",
    "    \n",
    "    @classmethod                          #class method(Decorator)\n",
    "    def incr_count(cls):                  # call to class\n",
    "        cls.count+=1\n",
    "        \n",
    "    def __init__(self,cust_id,name,initial_bal=0):      \n",
    "            self.__id= cust_id                          \n",
    "            self.__name= name\n",
    "            self.__bal= initial_bal\n",
    "            Account.incr_count()\n",
    "    @classmethod       \n",
    "    def get_count(cls):\n",
    "        return cls.count\n",
    "    \n",
    "    @staticmethod\n",
    "    def print_val():\n",
    "        print(\"Static method in Account class\")\n",
    "            \n",
    "    def get_bal(self):                                # balance for a specific customer\n",
    "        return self.__bal\n",
    "    \n",
    "    def deposit(self,amount):\n",
    "        self.__bal += amount\n",
    "        return self.__bal\n",
    "    \n",
    "    def withdraw(self,amount):\n",
    "        if amount > self.__bal:\n",
    "            return \"Insuficient balance\"\n",
    "        else:\n",
    "            self.__bal -= amount\n",
    "            return self.__bal\n",
    "        \n",
    "        \n",
    "customer1= Account(\"101\",\"ABC\") \n",
    "customer2= Account(\"102\",\"XYZ\")\n",
    "customer3= Account(\"103\",\"PQR\")\n",
    "\n",
    "print(Account.get_count())\n",
    "\n",
    "Account.print_val()"
   ]
  },
  {
   "cell_type": "markdown",
   "metadata": {},
   "source": [
    "# Inheritance\n",
    "\n",
    "Used to reuse a code"
   ]
  },
  {
   "cell_type": "code",
   "execution_count": 25,
   "metadata": {},
   "outputs": [
    {
     "name": "stdout",
     "output_type": "stream",
     "text": [
      "{'_Account__id': 101, '_Account__name': 'ABC', '_Account__bal': 0, 'limit': 50000}\n"
     ]
    }
   ],
   "source": [
    "#creating inheritance where parent is Account class\n",
    "class Saving_Account(Account):\n",
    "    def __init__(self,id,name,initial_bal=0):\n",
    "        super().__init__(id,name,initial_bal)  #calling  other parameters frm parent class\n",
    "        self.limit = 50000 \n",
    "        \n",
    "    def withdraw(self,amount):\n",
    "        if amount  < self.limit:\n",
    "            new_bal= super().withdraw(amount)\n",
    "            self.limit-=amount\n",
    "            return new_bal\n",
    "        else:\n",
    "            return \"Daily limit reached\"\n",
    "        \n",
    "\n",
    "cust1= Saving_Account(101,\"ABC\")\n",
    "print(cust1.__dict__)"
   ]
  },
  {
   "cell_type": "code",
   "execution_count": 26,
   "metadata": {
    "scrolled": true
   },
   "outputs": [
    {
     "name": "stdout",
     "output_type": "stream",
     "text": [
      "80000\n",
      "40000\n",
      "Daily limit reached\n"
     ]
    }
   ],
   "source": [
    "print(cust1.deposit(80000))\n",
    "print(cust1.withdraw(40000))\n",
    "print(cust1.withdraw(20000))\n",
    "\n"
   ]
  }
 ],
 "metadata": {
  "kernelspec": {
   "display_name": "Python 3",
   "language": "python",
   "name": "python3"
  },
  "language_info": {
   "codemirror_mode": {
    "name": "ipython",
    "version": 3
   },
   "file_extension": ".py",
   "mimetype": "text/x-python",
   "name": "python",
   "nbconvert_exporter": "python",
   "pygments_lexer": "ipython3",
   "version": "3.8.5"
  }
 },
 "nbformat": 4,
 "nbformat_minor": 4
}
